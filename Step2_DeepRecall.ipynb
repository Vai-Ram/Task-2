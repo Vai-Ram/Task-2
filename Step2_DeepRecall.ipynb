{
  "nbformat": 4,
  "nbformat_minor": 0,
  "metadata": {
    "colab": {
      "provenance": [],
      "authorship_tag": "ABX9TyOfirX2ci+mr3pRpnYj4oPd",
      "include_colab_link": true
    },
    "kernelspec": {
      "name": "python3",
      "display_name": "Python 3"
    },
    "language_info": {
      "name": "python"
    }
  },
  "cells": [
    {
      "cell_type": "markdown",
      "metadata": {
        "id": "view-in-github",
        "colab_type": "text"
      },
      "source": [
        "<a href=\"https://colab.research.google.com/github/Vai-Ram/Task-2/blob/main/Step2_DeepRecall.ipynb\" target=\"_parent\"><img src=\"https://colab.research.google.com/assets/colab-badge.svg\" alt=\"Open In Colab\"/></a>"
      ]
    },
    {
      "cell_type": "code",
      "source": [
        "!pip install pytesseract"
      ],
      "metadata": {
        "colab": {
          "base_uri": "https://localhost:8080/"
        },
        "id": "vZ6k8VMFN4zu",
        "outputId": "239065a9-9408-4ae4-ac5f-143543f0651a"
      },
      "execution_count": 2,
      "outputs": [
        {
          "output_type": "stream",
          "name": "stdout",
          "text": [
            "Collecting pytesseract\n",
            "  Downloading pytesseract-0.3.13-py3-none-any.whl.metadata (11 kB)\n",
            "Requirement already satisfied: packaging>=21.3 in /usr/local/lib/python3.11/dist-packages (from pytesseract) (24.2)\n",
            "Requirement already satisfied: Pillow>=8.0.0 in /usr/local/lib/python3.11/dist-packages (from pytesseract) (11.2.1)\n",
            "Downloading pytesseract-0.3.13-py3-none-any.whl (14 kB)\n",
            "Installing collected packages: pytesseract\n",
            "Successfully installed pytesseract-0.3.13\n"
          ]
        }
      ]
    },
    {
      "cell_type": "code",
      "execution_count": 3,
      "metadata": {
        "id": "G-DtOrqGNs3l"
      },
      "outputs": [],
      "source": [
        "import cv2\n",
        "import pytesseract"
      ]
    },
    {
      "cell_type": "markdown",
      "source": [
        "# Multicols Demo Image"
      ],
      "metadata": {
        "id": "DT27J1uWO9QK"
      }
    },
    {
      "cell_type": "code",
      "source": [
        "img1 = cv2.imread('/content/MultiCol1OL.png')\n",
        "custom_config = r'--oem 3 --psm 6'\n",
        "pytesseract.image_to_string(img1, config=custom_config)"
      ],
      "metadata": {
        "colab": {
          "base_uri": "https://localhost:8080/",
          "height": 142
        },
        "id": "yqUTJdk3NyGX",
        "outputId": "a245c3d1-d2b9-46a3-9f4e-d486973cd736"
      },
      "execution_count": 10,
      "outputs": [
        {
          "output_type": "execute_result",
          "data": {
            "text/plain": [
              "'1 First Section\\n\\nMulticols Demo\\n\\nOverleaf\\n\\nApril 2021\\n\\nAll human things are subject to decay. And when fate summons, Monarchs\\n\\nmust obey.\\n\\n \\n\\n       \\n \\n\\nLorem ipsum dolor\\nsit amet, consectetuer\\nEtiam\\n\\nlisis sem.\\n\\nNullam nec mi et neque\\npharetra sollicitudin.\\nPraesent imperdiet mi\\nnec ante. Donec ullam-\\ncorper, felis non sodales\\ncommodo, lectus — velit\\nultrices augue, a dignis-\\nsim nibh lectus placerat,\\n\\npede. Vivamus nunc\\nnunc, molestie ut, ul-\\ntricies vel, semper in,\\n\\n  \\n\\nvelit. Ut porttitor. Prae-\\nsent in sapien. Lorem\\nipsum dolor sit amet,\\nconsectetuer adipiscing\\n¢ Duis fringilla tris-\\ntique neque. Sed inter-\\ndum libero ut metus.\\nPellentesque placerat.\\n\\n \\n\\nNam rutrum augue a\\nleo. Morbi sed elit. sit\\namet, ante lobortis sollic-\\nitudin. Praesent blandit\\nblandit mauris. Praesent\\nlectus tellus, aliquet ali-\\nquam, luctus a, egestas\\na, turpis. Mauris lacinia\\nlorem sit amet ipsum.\\nNune quis urna dictum\\nturpis accumsan semper\\nLorem ipsum dolor. sit\\namet, consectetuer adip-\\niscing elit. Etiam lobor-\\ntis facilisis sem. Nullam\\nnec mi et neque phare-\\ntra sollicitudin. Praesent\\nimperdiet mi nec ante.\\nDonec ullamcorper, felis\\nnon sodales commodo,\\nlectus velit, ultrices au-\\ngue, a dignissim nibh\\nlectus placerat pede. Vi-\\n\\n \\n\\n \\n\\n \\n\\n  \\n\\nvamus nunc nunc, mo-\\nut, ultricies vel,\\nmper in, velit. Ut port-\\ntitor. Praesent in sapien.\\nLorem ipsum dolor sit\\namet, consectetuer adip-\\niscing elit. Duis fringilla\\ntristique neque. Sed in-\\nterdum libero ut metus.\\n-ellentesque —_ placerat.\\nNam rutrum augue a\\nleo. Morbi sed elit\\namet ante lobortis sollic\\nitudin. Praesent blandit\\nolandit mauris. Praesent\\nlectus tellus, aliquet ali-\\nquam, luctus a, egestas\\na, turpis. Mauris lacinia\\nlorem sit amet ipsum.\\nNune quis urna dictum\\nturpis accumsan semper.\\n\\nlestie\\n\\n   \\n\\n \\n\\n \\n\\n \\n\\x0c'"
            ],
            "application/vnd.google.colaboratory.intrinsic+json": {
              "type": "string"
            }
          },
          "metadata": {},
          "execution_count": 10
        }
      ]
    },
    {
      "cell_type": "markdown",
      "source": [
        "The text seems to be very accurate, this is expected because the image is very clear and legible\n",
        "\n",
        "In the custom config,\n",
        "oem 3 is default. It finds the best engine to use for this case.\n",
        "psm 6 means that the image has a single uniform block of text.\n"
      ],
      "metadata": {
        "id": "wtpilXn3PEvi"
      }
    },
    {
      "cell_type": "markdown",
      "source": [
        "# Form Image"
      ],
      "metadata": {
        "id": "R1dZt6sJPO8C"
      }
    },
    {
      "cell_type": "code",
      "source": [
        "img2 = cv2.imread('/content/form33-fb76abc740b79e9ec50d16d19ac8537748e4d9da09f923d4bc35f9d9e01b2fe1.jpg')\n",
        "custom_config = r'--oem 3 --psm 3'\n",
        "pytesseract.image_to_string(img2, config=custom_config)"
      ],
      "metadata": {
        "colab": {
          "base_uri": "https://localhost:8080/",
          "height": 142
        },
        "id": "akYUmNZ4POWf",
        "outputId": "521542ce-037f-4c58-9e64-ccd0fa851200"
      },
      "execution_count": 12,
      "outputs": [
        {
          "output_type": "execute_result",
          "data": {
            "text/plain": [
              "'FORM 33\\n[See Rule 59]\\n\\nINTIMATION OF CHANGE OF ADDRESS FOR RECORDING IN THE CERTIFICATE OF\\nREGISTRATION AND OFFICE RECORDS\\n\\n(To be made in triplicate if the vehicle is held under agreement of hire-purchase / lease / hypothecation, the\\nduplicate copy and the triplicate copies with the endorsement of the Registering Authority to be returned to the|\\nFinancier and the Registering Authority (from whose jurisdiction the vehicle is removed) simultaneously, on making\\nthe entry of change of address in the certificate of Registration and Form 24)\\n\\nTo\\n\\n‘The Registering Authority,\\nGurugram, Haryana,\\n\\nSon/Wife/Daughter of...\\n(full address).\\n\\nRegistered Owner of motor vehicle No...\\nceased to reside, do not have the place of business at the address recorded in the certificate of registration\\nwith effect from............257 20. cssssosseesees The present address is given below (evidence to\\n\\nbe enclosed).\\nH.No. - 738, Sector 109K\\n\\n\"The vehicle is not held under any agreement of hire-purchase /lease /hypothecation.\\n\\n\"The vehicle is held under an agreement of hire-purchase / lease / hypothecation with\\n\\nBC\\n\\nvan\\n(Name and Full address of the Financier)\\nThe certificate of registration is enclosed. /We request that the change of address may be\\n\\nrecorded in the certificate of Registration and Form 24,\\n\\nKo\\nDate. .15: ) ‘Signature or thumb impression of the\\nRegistered Owner of the vehicle\\n\\n*Strike out whichever is inapplicable\\n\\n \\n\\x0c'"
            ],
            "application/vnd.google.colaboratory.intrinsic+json": {
              "type": "string"
            }
          },
          "metadata": {},
          "execution_count": 12
        }
      ]
    },
    {
      "cell_type": "markdown",
      "source": [
        "It seems to have some trouble with the red text, maybe because its above a dotted line, but the rest is pretty accurate.\n",
        "\n",
        "The psm in the custom config is set to 3 here which is default so it identifies blocks of text on its own."
      ],
      "metadata": {
        "id": "Sim6LkjKQN63"
      }
    },
    {
      "cell_type": "markdown",
      "source": [
        "# Formal Letter Image"
      ],
      "metadata": {
        "id": "_1wuabuZRNxg"
      }
    },
    {
      "cell_type": "code",
      "source": [
        "img3 = cv2.imread('/content/download.png')\n",
        "custom_config = r'--oem 3 --psm 3'\n",
        "pytesseract.image_to_string(img3, config=custom_config)"
      ],
      "metadata": {
        "colab": {
          "base_uri": "https://localhost:8080/",
          "height": 35
        },
        "id": "85sUcHujOzJD",
        "outputId": "3c524cb8-425c-4b14-93fc-1e2b593f8fc0"
      },
      "execution_count": 13,
      "outputs": [
        {
          "output_type": "execute_result",
          "data": {
            "text/plain": [
              "'\\x0c'"
            ],
            "application/vnd.google.colaboratory.intrinsic+json": {
              "type": "string"
            }
          },
          "metadata": {},
          "execution_count": 13
        }
      ]
    },
    {
      "cell_type": "markdown",
      "source": [
        "For this image, there's no ouput at all. This is probably because the image is grainy and not clear so tesseract can't properly identify the letters."
      ],
      "metadata": {
        "id": "Fwpb1GV8RZ6f"
      }
    }
  ]
}